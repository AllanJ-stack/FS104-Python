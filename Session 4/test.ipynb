{
 "metadata": {
  "language_info": {
   "codemirror_mode": {
    "name": "ipython",
    "version": 3
   },
   "file_extension": ".py",
   "mimetype": "text/x-python",
   "name": "python",
   "nbconvert_exporter": "python",
   "pygments_lexer": "ipython3",
   "version": "3.9.1-final"
  },
  "orig_nbformat": 2,
  "kernelspec": {
   "name": "python3",
   "display_name": "Python 3.9.1 64-bit",
   "metadata": {
    "interpreter": {
     "hash": "26221878926509641e5b2b607f3c6e4b8fe258a31a8ed898b7e217b89bef0a84"
    }
   }
  }
 },
 "nbformat": 4,
 "nbformat_minor": 2,
 "cells": [
  {
   "cell_type": "code",
   "execution_count": 1,
   "metadata": {},
   "outputs": [
    {
     "output_type": "stream",
     "name": "stdout",
     "text": [
      "25\n"
     ]
    }
   ],
   "source": [
    "# Practices functions\n",
    "\n",
    "def add(a,b):\n",
    "     return a + b\n",
    "\n",
    "print(add(10,15))\n"
   ]
  },
  {
   "cell_type": "code",
   "execution_count": 2,
   "metadata": {},
   "outputs": [
    {
     "output_type": "stream",
     "name": "stdout",
     "text": [
      "Hello Kannan\n"
     ]
    }
   ],
   "source": [
    "def combine(str1, str2):\n",
    "    return str(str1) + str(str2)\n",
    "\n",
    "print(combine(\"Hello \",\"Kannan\"))\n"
   ]
  },
  {
   "cell_type": "code",
   "execution_count": 4,
   "metadata": {},
   "outputs": [
    {
     "output_type": "execute_result",
     "data": {
      "text/plain": [
       "'hey world'"
      ]
     },
     "metadata": {},
     "execution_count": 4
    }
   ],
   "source": [
    "def concstring(word1, word2):\n",
    "    conc = word1 + word2\n",
    "    return conc\n",
    "concstring(\"hey \", \"world\")\n"
   ]
  },
  {
   "cell_type": "code",
   "execution_count": null,
   "metadata": {},
   "outputs": [],
   "source": [
    "def welcome():\n",
    "    return \"Hello World!\"\n",
    "\n",
    "hello = welcome()\n",
    "print(hello)\n"
   ]
  },
  {
   "cell_type": "code",
   "execution_count": 5,
   "metadata": {},
   "outputs": [
    {
     "output_type": "stream",
     "name": "stdout",
     "text": [
      "The type of number provided is not integer\n"
     ]
    }
   ],
   "source": [
    "def add(a,b):\n",
    "    if type(a) == int and type(b) == int:\n",
    "        return a + b\n",
    "    else:\n",
    "        return \"The type of number provided is not integer\"\n",
    "\n",
    "print(add(10.78,15))\n"
   ]
  },
  {
   "cell_type": "code",
   "execution_count": 6,
   "metadata": {},
   "outputs": [],
   "source": [
    "def combine(a,b):\n",
    "    if type(a) == int and type(b) ==str:\n",
    "        return a+b\n",
    "    else:\n",
    "        return \"The type of number provided is not integer\""
   ]
  },
  {
   "cell_type": "code",
   "execution_count": 17,
   "metadata": {},
   "outputs": [
    {
     "output_type": "error",
     "ename": "IndentationError",
     "evalue": "expected an indented block (<ipython-input-17-2fcd32197a90>, line 2)",
     "traceback": [
      "\u001b[1;36m  File \u001b[1;32m\"<ipython-input-17-2fcd32197a90>\"\u001b[1;36m, line \u001b[1;32m2\u001b[0m\n\u001b[1;33m    total = 0\u001b[0m\n\u001b[1;37m    ^\u001b[0m\n\u001b[1;31mIndentationError\u001b[0m\u001b[1;31m:\u001b[0m expected an indented block\n"
     ]
    }
   ],
   "source": [
    "\n",
    "\n",
    "def sum(numbers):\n",
    "total = 0\n",
    "\n",
    "\n",
    "# iterate over the list\n",
    "for val in numbers:\n",
    "\ttotal = total+val\n",
    "num = [1,2,2,3,4]\n",
    "\n",
    "print(\"The sum is\", sum)"
   ]
  },
  {
   "cell_type": "code",
   "execution_count": 20,
   "metadata": {},
   "outputs": [
    {
     "output_type": "error",
     "ename": "SyntaxError",
     "evalue": "invalid syntax (<ipython-input-20-af7c027774d4>, line 1)",
     "traceback": [
      "\u001b[1;36m  File \u001b[1;32m\"<ipython-input-20-af7c027774d4>\"\u001b[1;36m, line \u001b[1;32m1\u001b[0m\n\u001b[1;33m    def function ()\u001b[0m\n\u001b[1;37m                   ^\u001b[0m\n\u001b[1;31mSyntaxError\u001b[0m\u001b[1;31m:\u001b[0m invalid syntax\n"
     ]
    }
   ],
   "source": [
    "def function ()\n",
    "    print(str(\"Hello\"))"
   ]
  },
  {
   "cell_type": "code",
   "execution_count": 26,
   "metadata": {},
   "outputs": [
    {
     "output_type": "stream",
     "name": "stdout",
     "text": [
      "True\n"
     ]
    }
   ],
   "source": [
    "mylist = [False, True, False]\n",
    "x = any(mylist)\n",
    "print(x)\n"
   ]
  },
  {
   "cell_type": "code",
   "execution_count": 27,
   "metadata": {},
   "outputs": [
    {
     "output_type": "error",
     "ename": "TypeError",
     "evalue": "'int' object is not callable",
     "traceback": [
      "\u001b[1;31m---------------------------------------------------------------------------\u001b[0m",
      "\u001b[1;31mTypeError\u001b[0m                                 Traceback (most recent call last)",
      "\u001b[1;32m<ipython-input-27-2c9c88dac38d>\u001b[0m in \u001b[0;36m<module>\u001b[1;34m\u001b[0m\n\u001b[0;32m      1\u001b[0m \u001b[0mnumbers\u001b[0m \u001b[1;33m=\u001b[0m \u001b[1;33m[\u001b[0m\u001b[1;36m1\u001b[0m\u001b[1;33m,\u001b[0m\u001b[1;36m2\u001b[0m\u001b[1;33m,\u001b[0m\u001b[1;36m3\u001b[0m\u001b[1;33m,\u001b[0m\u001b[1;36m4\u001b[0m\u001b[1;33m,\u001b[0m\u001b[1;36m5\u001b[0m\u001b[1;33m]\u001b[0m\u001b[1;33m\u001b[0m\u001b[1;33m\u001b[0m\u001b[0m\n\u001b[1;32m----> 2\u001b[1;33m \u001b[0mprint\u001b[0m\u001b[1;33m(\u001b[0m\u001b[0msum\u001b[0m\u001b[1;33m(\u001b[0m\u001b[0mnumbers\u001b[0m\u001b[1;33m)\u001b[0m\u001b[1;33m)\u001b[0m\u001b[1;33m\u001b[0m\u001b[1;33m\u001b[0m\u001b[0m\n\u001b[0m",
      "\u001b[1;31mTypeError\u001b[0m: 'int' object is not callable"
     ]
    }
   ],
   "source": [
    "numbers = [1,2,3,4,5]\n",
    "print(sum(numbers))"
   ]
  },
  {
   "cell_type": "code",
   "execution_count": 29,
   "metadata": {},
   "outputs": [
    {
     "output_type": "stream",
     "name": "stdout",
     "text": [
      "The index of disney+ is: 2\nTrue\n"
     ]
    }
   ],
   "source": [
    "streaming = ['netflix', 'hulu', 'disney+', 'appletv+']\n",
    "\n",
    "index = streaming.index('disney+')\n",
    "print('The index of disney+ is:', index)\n",
    "res = any(x == 'disney+' for x in streaming) \n",
    "print(res)\n"
   ]
  },
  {
   "cell_type": "code",
   "execution_count": 30,
   "metadata": {},
   "outputs": [
    {
     "output_type": "stream",
     "name": "stdout",
     "text": [
      "The index of disney+ is: 2\nTrue\nTrue\n"
     ]
    }
   ],
   "source": [
    "streaming = ['netflix', 'hulu', 'disney+', 'appletv+']\n",
    "\n",
    "index = streaming.index('disney+')\n",
    "print('The index of disney+ is:', index)\n",
    "res = any(x == 'disney+' for x in streaming) \n",
    "print(res)\n",
    "\n",
    "result = 'disney+' in streaming\n",
    "print(result)\n"
   ]
  },
  {
   "cell_type": "code",
   "execution_count": 31,
   "metadata": {},
   "outputs": [
    {
     "output_type": "execute_result",
     "data": {
      "text/plain": [
       "True"
      ]
     },
     "metadata": {},
     "execution_count": 31
    }
   ],
   "source": [
    "streaming = ['netflix', 'hulu', 'disney+', 'appletv+']\n",
    "'netflix' in streaming"
   ]
  },
  {
   "cell_type": "code",
   "execution_count": 38,
   "metadata": {},
   "outputs": [
    {
     "output_type": "stream",
     "name": "stdout",
     "text": [
      "hello moon\nmy destination -   moon\n"
     ]
    },
    {
     "output_type": "execute_result",
     "data": {
      "text/plain": [
       "<bound method Apollo.get_destination of <__main__.Apollo object at 0x00000231C6087100>>"
      ]
     },
     "metadata": {},
     "execution_count": 38
    }
   ],
   "source": [
    "class Apollo:\n",
    "    #variables\n",
    "    destination = \" moon\"\n",
    "    #member functions / behavior\n",
    "    def printhello(self):\n",
    "        print(\"hello moon\")\n",
    "    def get_destination(self):\n",
    "        print(\"my destination - \", self.destination)\n",
    "\n",
    "apollo1 = Apollo()\n",
    "apollo1.printhello()\n",
    "apollo1.get_destination()\n",
    "\n",
    "apollo2 = Apollo()\n",
    "apollo2.destination = \"mars\"\n",
    "apollo2.get_destination()\n"
   ]
  },
  {
   "cell_type": "code",
   "execution_count": 45,
   "metadata": {},
   "outputs": [
    {
     "output_type": "error",
     "ename": "TypeError",
     "evalue": "__init__() missing 1 required positional argument: 'duration'",
     "traceback": [
      "\u001b[1;31m---------------------------------------------------------------------------\u001b[0m",
      "\u001b[1;31mTypeError\u001b[0m                                 Traceback (most recent call last)",
      "\u001b[1;32m<ipython-input-45-cb903afbc766>\u001b[0m in \u001b[0;36m<module>\u001b[1;34m\u001b[0m\n\u001b[0;32m     11\u001b[0m         \u001b[0mprint\u001b[0m\u001b[1;33m(\u001b[0m\u001b[1;34m\"my destination - \"\u001b[0m\u001b[1;33m,\u001b[0m \u001b[0mself\u001b[0m\u001b[1;33m.\u001b[0m\u001b[0mdestination\u001b[0m\u001b[1;33m)\u001b[0m\u001b[1;33m\u001b[0m\u001b[1;33m\u001b[0m\u001b[0m\n\u001b[0;32m     12\u001b[0m \u001b[1;33m\u001b[0m\u001b[0m\n\u001b[1;32m---> 13\u001b[1;33m \u001b[0mapollo1\u001b[0m \u001b[1;33m=\u001b[0m \u001b[0mApollo\u001b[0m\u001b[1;33m(\u001b[0m\u001b[1;34m\"moon, 24\"\u001b[0m\u001b[1;33m)\u001b[0m\u001b[1;33m\u001b[0m\u001b[1;33m\u001b[0m\u001b[0m\n\u001b[0m\u001b[0;32m     14\u001b[0m \u001b[0mapollo1\u001b[0m\u001b[1;33m.\u001b[0m\u001b[0mprinthello\u001b[0m\u001b[1;33m(\u001b[0m\u001b[1;33m)\u001b[0m\u001b[1;33m\u001b[0m\u001b[1;33m\u001b[0m\u001b[0m\n\u001b[0;32m     15\u001b[0m \u001b[0mapollo1\u001b[0m\u001b[1;33m.\u001b[0m\u001b[0mget_destination\u001b[0m\u001b[1;33m(\u001b[0m\u001b[1;34m\"\"\u001b[0m\u001b[1;33m)\u001b[0m\u001b[1;33m\u001b[0m\u001b[1;33m\u001b[0m\u001b[0m\n",
      "\u001b[1;31mTypeError\u001b[0m: __init__() missing 1 required positional argument: 'duration'"
     ]
    }
   ],
   "source": [
    "class Apollo:\n",
    "    #variables\n",
    "    \n",
    "    #member functions / behavior\n",
    "    def __init__(self, destination, duration):\n",
    "        self.destination = destination\n",
    "        self.duration = destination*3\n",
    "    def printhello(self):\n",
    "        print(\"hello moon\")\n",
    "    def get_destination(self):\n",
    "        print(\"my destination - \", self.destination)\n",
    "\n",
    "apollo1 = Apollo(\"moon, 24\")\n",
    "apollo1.printhello()\n",
    "apollo1.get_destination(\"\")\n",
    "\n",
    "apollo2 = Apollo(\"mars\")\n",
    "apollo2.get_destination()"
   ]
  },
  {
   "cell_type": "code",
   "execution_count": 46,
   "metadata": {},
   "outputs": [
    {
     "output_type": "error",
     "ename": "NameError",
     "evalue": "name 'DictofPlaces' is not defined",
     "traceback": [
      "\u001b[1;31m---------------------------------------------------------------------------\u001b[0m",
      "\u001b[1;31mNameError\u001b[0m                                 Traceback (most recent call last)",
      "\u001b[1;32m<ipython-input-46-c5e2ab3d1a60>\u001b[0m in \u001b[0;36m<module>\u001b[1;34m\u001b[0m\n\u001b[0;32m     10\u001b[0m         \u001b[0mprint\u001b[0m\u001b[1;33m(\u001b[0m\u001b[1;34m\"My destination - \"\u001b[0m\u001b[1;33m,\u001b[0m \u001b[0mself\u001b[0m\u001b[1;33m.\u001b[0m\u001b[0mdestination\u001b[0m\u001b[1;33m)\u001b[0m\u001b[1;33m\u001b[0m\u001b[1;33m\u001b[0m\u001b[0m\n\u001b[0;32m     11\u001b[0m \u001b[1;33m\u001b[0m\u001b[0m\n\u001b[1;32m---> 12\u001b[1;33m \u001b[1;32mfor\u001b[0m \u001b[0mkey\u001b[0m \u001b[1;32min\u001b[0m \u001b[0mDictofPlaces\u001b[0m\u001b[1;33m:\u001b[0m\u001b[1;33m\u001b[0m\u001b[1;33m\u001b[0m\u001b[0m\n\u001b[0m\u001b[0;32m     13\u001b[0m     \u001b[0mobjectname\u001b[0m \u001b[1;33m=\u001b[0m \u001b[1;34m\"object\"\u001b[0m \u001b[1;33m+\u001b[0m \u001b[0mkey\u001b[0m\u001b[1;33m\u001b[0m\u001b[1;33m\u001b[0m\u001b[0m\n\u001b[0;32m     14\u001b[0m     \u001b[0mobjectname\u001b[0m \u001b[1;33m=\u001b[0m \u001b[0mPlace\u001b[0m\u001b[1;33m(\u001b[0m\u001b[0mDictofPlaces\u001b[0m\u001b[1;33m[\u001b[0m\u001b[0mkey\u001b[0m\u001b[1;33m]\u001b[0m\u001b[1;33m)\u001b[0m\u001b[1;33m\u001b[0m\u001b[1;33m\u001b[0m\u001b[0m\n",
      "\u001b[1;31mNameError\u001b[0m: name 'DictofPlaces' is not defined"
     ]
    }
   ],
   "source": [
    "#create class\n",
    "class Place:\n",
    "    #create variables\n",
    "    def __init__(self,destination):\n",
    "        self.destination = destination\n",
    "    #define functions/behaviors\n",
    "    def printhello(self):\n",
    "        print(\"Hello!!!!\")\n",
    "    def get_destination(self):\n",
    "        print(\"My destination - \", self.destination)\n",
    "\n",
    "for key in DictofPlaces:\n",
    "    objectname = \"object\" + key\n",
    "    objectname = Place(DictofPlaces[key])\n",
    "    objectname.get_destination()\n"
   ]
  },
  {
   "cell_type": "code",
   "execution_count": 47,
   "metadata": {},
   "outputs": [
    {
     "output_type": "error",
     "ename": "SyntaxError",
     "evalue": "invalid syntax (<ipython-input-47-b9c0ce557d9b>, line 16)",
     "traceback": [
      "\u001b[1;36m  File \u001b[1;32m\"<ipython-input-47-b9c0ce557d9b>\"\u001b[1;36m, line \u001b[1;32m16\u001b[0m\n\u001b[1;33m    With __init__:\u001b[0m\n\u001b[1;37m         ^\u001b[0m\n\u001b[1;31mSyntaxError\u001b[0m\u001b[1;31m:\u001b[0m invalid syntax\n"
     ]
    }
   ],
   "source": [
    "#create class\n",
    "class Place:\n",
    "    #create variables\n",
    "    destination = \"\"\n",
    "    #define functions/behaviors\n",
    "    def printhello(self):\n",
    "        print(\"Hello!!!!\")\n",
    "    def get_destination(self):\n",
    "        print(\"My destination - \", self.destination)\n",
    "\n",
    "for key in DictofPlaces:\n",
    "    objectname = \"object\" + key\n",
    "    objectname = Place()\n",
    "    objectname.destination = DictofPlaces[key]\n",
    "    objectname.get_destination()\n",
    "With __init__:\n",
    "DictofPlaces = {'Home': 'Home1', 'House': 'House1'}\n"
   ]
  },
  {
   "cell_type": "code",
   "execution_count": 51,
   "metadata": {},
   "outputs": [
    {
     "output_type": "stream",
     "name": "stdout",
     "text": [
      "15\n"
     ]
    },
    {
     "output_type": "execute_result",
     "data": {
      "text/plain": [
       "15"
      ]
     },
     "metadata": {},
     "execution_count": 51
    }
   ],
   "source": [
    "a = lambda x : x + 10\n",
    "print(a(5))\n",
    "\n",
    "def function(x):\n",
    "    return x+10\n",
    "function(5)\n"
   ]
  },
  {
   "cell_type": "code",
   "execution_count": 56,
   "metadata": {},
   "outputs": [
    {
     "output_type": "stream",
     "name": "stdout",
     "text": [
      "[0, 1, 2, 3, 4, 5]\n[-5, -4, -3, -2, -1]\n"
     ]
    }
   ],
   "source": [
    "mylist = range(-5, 6)\n",
    "negatives = filter(lambda x: x >= 0, mylist)\n",
    "print(list(negatives))\n",
    "mylist = range(-5, 5)\n",
    "negatives = filter(lambda x: x < 0, mylist)\n",
    "print(list(negatives))\n"
   ]
  },
  {
   "cell_type": "code",
   "execution_count": 57,
   "metadata": {},
   "outputs": [
    {
     "output_type": "stream",
     "name": "stdout",
     "text": [
      "[11, 12, 13, 14]\n"
     ]
    }
   ],
   "source": [
    "Q: write a program to add the two arrays\n",
    "\n",
    "a = [1,2,3,4]\n",
    "b = [10,10,10,10]\n",
    "c = map(lambda x,y:x+y, a,b)\n",
    "print(list(c))\n"
   ]
  },
  {
   "cell_type": "code",
   "execution_count": 59,
   "metadata": {},
   "outputs": [
    {
     "output_type": "stream",
     "name": "stdout",
     "text": [
      "[1, 2, 3, 4, 10, 10, 10, 10]\n"
     ]
    }
   ],
   "source": [
    "a = [1,2,3,4]\n",
    "b = [10,10,10,10]\n",
    "sum = 0\n",
    "    for i\n"
   ]
  },
  {
   "cell_type": "code",
   "execution_count": 60,
   "metadata": {},
   "outputs": [
    {
     "output_type": "stream",
     "name": "stdout",
     "text": [
      "11\n12\n13\n14\n"
     ]
    }
   ],
   "source": [
    "a = [1,2,3,4]\n",
    "b = [10,10,10,10]\n",
    "sum = 0\n",
    "for i in a:\n",
    "    for j in b:\n",
    "        sum = i+j\n",
    "    print(sum)\n"
   ]
  },
  {
   "cell_type": "code",
   "execution_count": 61,
   "metadata": {},
   "outputs": [
    {
     "output_type": "stream",
     "name": "stdout",
     "text": [
      "14\n"
     ]
    }
   ],
   "source": [
    "a = [1,2,3,4]\n",
    "b = [10,10,10,10]\n",
    "sum = 0\n",
    "if len(a) == len(b):\n",
    "    for i in a:\n",
    "        for j in b:\n",
    "            sum = i+j\n",
    "    print(sum)\n",
    "else:\n",
    "    print(\"Array is not of same size\")\n"
   ]
  },
  {
   "cell_type": "code",
   "execution_count": null,
   "metadata": {},
   "outputs": [],
   "source": []
  }
 ]
}