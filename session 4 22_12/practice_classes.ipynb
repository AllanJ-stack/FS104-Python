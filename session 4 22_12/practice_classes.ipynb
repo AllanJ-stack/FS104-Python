{
 "metadata": {
  "language_info": {
   "codemirror_mode": {
    "name": "ipython",
    "version": 3
   },
   "file_extension": ".py",
   "mimetype": "text/x-python",
   "name": "python",
   "nbconvert_exporter": "python",
   "pygments_lexer": "ipython3",
   "version": "3.9.1-final"
  },
  "orig_nbformat": 2,
  "kernelspec": {
   "name": "python3",
   "display_name": "Python 3.9.1 64-bit",
   "metadata": {
    "interpreter": {
     "hash": "26221878926509641e5b2b607f3c6e4b8fe258a31a8ed898b7e217b89bef0a84"
    }
   }
  }
 },
 "nbformat": 4,
 "nbformat_minor": 2,
 "cells": [
  {
   "cell_type": "code",
   "execution_count": 5,
   "metadata": {},
   "outputs": [],
   "source": [
    "# class Animal:\n",
    "#     #class method\n",
    "#     def returnanumber():\n",
    "#         return 5\n",
    "# class Animal:\n",
    "#     def function(self)"
   ]
  },
  {
   "cell_type": "code",
   "execution_count": 6,
   "metadata": {},
   "outputs": [],
   "source": [
    "class Animal:\n",
    "    \"\"\n"
   ]
  },
  {
   "cell_type": "code",
   "execution_count": 10,
   "metadata": {},
   "outputs": [
    {
     "output_type": "stream",
     "name": "stdout",
     "text": [
      "1 Vaibhav\n"
     ]
    }
   ],
   "source": [
    "class Employee:\n",
    "    employee_id = \"\"\n",
    "    employee_name = \"\"\n",
    "    def returnemployeeid(self, id, name):\n",
    "        employee_id =id\n",
    "        employee_name = name\n",
    "        print(employee_id, employee_name)\n",
    "\n",
    "vaibhav = Employee()\n",
    "vaibhav.returnemployeeid(1, \"Vaibhav\")"
   ]
  },
  {
   "cell_type": "code",
   "execution_count": 11,
   "metadata": {},
   "outputs": [
    {
     "output_type": "stream",
     "name": "stdout",
     "text": [
      "1 Vaibhav\n1 Vaibhav\n"
     ]
    }
   ],
   "source": [
    "employee1 = Employee()\n",
    "employee1.returnemployeeid(1, \"Vaibhav\")\n",
    "class Employee: \n",
    "    #attributes / properties\n",
    "    employee_id = \"\"\n",
    "    employee_name = \"\"\n",
    "    #methods / behavior\n",
    "    def returnemployeeid(self, id, name):\n",
    "        employee_id = id\n",
    "        employee_name = name\n",
    "        print(employee_id, employee_name)\n",
    "\n",
    "\n",
    "employee1 = Employee()\n",
    "employee1.returnemployeeid(1, \"Vaibhav\")\n"
   ]
  },
  {
   "cell_type": "code",
   "execution_count": 12,
   "metadata": {},
   "outputs": [
    {
     "output_type": "stream",
     "name": "stdout",
     "text": [
      "Name: gab; Rank: cp; Salary: 10000\nName: vai; Rank: cp; Salary: 10000\nName: gab; Rank: cp; Salary: 10000\n"
     ]
    }
   ],
   "source": [
    "class Employee: \n",
    "    def __init__(self,name,rank,salary):\n",
    "        self.name = name\n",
    "        self.rank = rank\n",
    "        self.salary = salary\n",
    "        \n",
    "    def display_employee(self):\n",
    "        print(\"Name: {}; Rank: {}; Salary: {}\".format(self.name,self.rank,self.salary))\n",
    "        \n",
    "    def pay_raise(self, increment):\n",
    "        self.salary += increment\n",
    "    \n",
    "    def promo(self, new_rank):\n",
    "        self.rank = new_rank\n",
    "\n",
    "\n",
    "me = Employee(\"gab\",\"cp\",10000)\n",
    "me.display_employee()\n",
    "\n",
    "me1 = Employee(\"vai\",\"cp\",10000)\n",
    "me1.display_employee()\n",
    "\n",
    "me.display_employee()\n"
   ]
  },
  {
   "cell_type": "code",
   "execution_count": null,
   "metadata": {},
   "outputs": [],
   "source": []
  }
 ]
}