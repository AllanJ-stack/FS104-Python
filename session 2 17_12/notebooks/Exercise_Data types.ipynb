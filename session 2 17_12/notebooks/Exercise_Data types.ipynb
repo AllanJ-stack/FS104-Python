{
 "cells": [
  {
   "cell_type": "markdown",
   "metadata": {},
   "source": [
    "# Exercise"
   ]
  },
  {
   "cell_type": "markdown",
   "metadata": {},
   "source": [
    "## Question 1"
   ]
  },
  {
   "source": [
    "# **Use *float()* to create a number from a string like '12.34'. Make sure the result is really a number!**\n",
    "\n",
    "y = '12.34'\n",
    "y = float(y)\n",
    "print(type(y))\n"
   ],
   "cell_type": "code",
   "metadata": {},
   "execution_count": 1,
   "outputs": [
    {
     "output_type": "stream",
     "name": "stdout",
     "text": [
      "<class 'float'>\n"
     ]
    }
   ]
  },
  {
   "cell_type": "markdown",
   "metadata": {},
   "source": [
    "## Question 2"
   ]
  },
  {
   "source": [
    "# **Try using *int()* to create an integer from a decimal number like $56.78$. Did the answer get rounded up or down?**\n",
    "x = 56.78\n",
    "x = int(x)\n",
    "print(x)\n",
    "down"
   ],
   "cell_type": "code",
   "metadata": {},
   "execution_count": 17,
   "outputs": [
    {
     "output_type": "stream",
     "name": "stdout",
     "text": [
      "56\n"
     ]
    }
   ]
  },
  {
   "cell_type": "markdown",
   "metadata": {},
   "source": [
    "## Question 3"
   ]
  },
  {
   "source": [
    "# **Try using *int()* to create an integer from a string. Make sure the result is really an integer!**\n",
    "y = \"100\"\n",
    "y = int(y)\n",
    "print(y)\n",
    "print(type(y))\n",
    "a = ''\n",
    "print(type(a))\n",
    "\n"
   ],
   "cell_type": "code",
   "metadata": {},
   "execution_count": 4,
   "outputs": [
    {
     "output_type": "stream",
     "name": "stdout",
     "text": [
      "100\n<class 'int'>\n<class 'str'>\n"
     ]
    }
   ]
  },
  {
   "cell_type": "markdown",
   "metadata": {},
   "source": [
    "## Question 4"
   ]
  },
  {
   "source": [
    "**Which of the following are valid string literals in Python.**\n",
    "\n",
    "**(a) \"Hello\"<br> (b) 'hello'<br> (c) \"Hello'<br> (d) 'Hello there'<br>**\n",
    "ans = (a) \"Hello\", (b) 'hello' (d) 'Hello there'"
   ],
   "cell_type": "code",
   "metadata": {},
   "execution_count": null,
   "outputs": []
  }
 ],
 "metadata": {
  "kernelspec": {
   "name": "python3",
   "display_name": "Python 3.9.1 64-bit",
   "metadata": {
    "interpreter": {
     "hash": "1106d04ddfa89ee73e7dc2c1843c57710d0848896bf9d0fc6b4d9edfc7988b05"
    }
   }
  },
  "language_info": {
   "codemirror_mode": {
    "name": "ipython",
    "version": 3
   },
   "file_extension": ".py",
   "mimetype": "text/x-python",
   "name": "python",
   "nbconvert_exporter": "python",
   "pygments_lexer": "ipython3",
   "version": "3.9.1-final"
  }
 },
 "nbformat": 4,
 "nbformat_minor": 2
}