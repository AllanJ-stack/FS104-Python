{
 "metadata": {
  "language_info": {
   "codemirror_mode": {
    "name": "ipython",
    "version": 3
   },
   "file_extension": ".py",
   "mimetype": "text/x-python",
   "name": "python",
   "nbconvert_exporter": "python",
   "pygments_lexer": "ipython3",
   "version": "3.9.1-final"
  },
  "orig_nbformat": 2,
  "kernelspec": {
   "name": "python3",
   "display_name": "Python 3.9.1 64-bit",
   "metadata": {
    "interpreter": {
     "hash": "1106d04ddfa89ee73e7dc2c1843c57710d0848896bf9d0fc6b4d9edfc7988b05"
    }
   }
  }
 },
 "nbformat": 4,
 "nbformat_minor": 2,
 "cells": [
  {
   "cell_type": "code",
   "execution_count": 1,
   "metadata": {},
   "outputs": [
    {
     "output_type": "stream",
     "name": "stdout",
     "text": [
      "<class 'set'>\n"
     ]
    }
   ],
   "source": [
    "newset = {1,2,3}\n",
    "print(type(newset))"
   ]
  },
  {
   "cell_type": "code",
   "execution_count": 2,
   "metadata": {},
   "outputs": [
    {
     "output_type": "execute_result",
     "data": {
      "text/plain": [
       "{1, 2, 3, 'vaibhav'}"
      ]
     },
     "metadata": {},
     "execution_count": 2
    }
   ],
   "source": [
    "newset = {1,2,3, 'vaibhav'}\n",
    "newset"
   ]
  },
  {
   "cell_type": "code",
   "execution_count": 3,
   "metadata": {},
   "outputs": [
    {
     "output_type": "execute_result",
     "data": {
      "text/plain": [
       "{1, 2, 3, 'vaibhav'}"
      ]
     },
     "metadata": {},
     "execution_count": 3
    }
   ],
   "source": [
    "newset = {1,2,3, 'vaibhav',3,2,1}\n",
    "newset"
   ]
  },
  {
   "cell_type": "code",
   "execution_count": 4,
   "metadata": {},
   "outputs": [
    {
     "output_type": "execute_result",
     "data": {
      "text/plain": [
       "{9, 10, 11, 43, 67, 89, 109}"
      ]
     },
     "metadata": {},
     "execution_count": 4
    }
   ],
   "source": [
    "newset = {10,9,11,67,89,109,43}\n",
    "newset\n"
   ]
  },
  {
   "cell_type": "code",
   "execution_count": 6,
   "metadata": {},
   "outputs": [
    {
     "output_type": "execute_result",
     "data": {
      "text/plain": [
       "{10, 109, 11, 43, 67, 89, 9, 'allan'}"
      ]
     },
     "metadata": {},
     "execution_count": 6
    }
   ],
   "source": [
    "newset = {10,9,11,67,89,\"allan\",109,43}\n",
    "newset"
   ]
  },
  {
   "cell_type": "code",
   "execution_count": 8,
   "metadata": {},
   "outputs": [
    {
     "output_type": "execute_result",
     "data": {
      "text/plain": [
       "{'a', 'c', 'x', 'y'}"
      ]
     },
     "metadata": {},
     "execution_count": 8
    }
   ],
   "source": [
    "py_set_py = {'a','y','c','x'}\n",
    "py_set_py"
   ]
  },
  {
   "cell_type": "code",
   "execution_count": null,
   "metadata": {},
   "outputs": [],
   "source": [
    "py_set_py = {'a','y','c','x'}\n",
    "\n",
    "py_set_py"
   ]
  },
  {
   "cell_type": "code",
   "execution_count": 9,
   "metadata": {},
   "outputs": [
    {
     "output_type": "stream",
     "name": "stdout",
     "text": [
      "Initial setA: {'o', 'e', 'g', 'u', 'i', 'a', 'h'} size: 7\nInitial setB: {'o', 'e', 't', 'u', 'z', 'a', 'b'} size: 7\n(setA & setB): {'a', 'o', 'e', 'u'} size: 4\n"
     ]
    }
   ],
   "source": [
    "# Python intersection example using the & operator\n",
    "setA = {'a', 'e', 'i', 'o', 'u', 'g', 'h'}\n",
    "setB = {'a', 'e', 'z', 'b', 't', 'o', 'u'}\n",
    "\n",
    "print(\"Initial setA:\", setA, \"size:\", len(setA))\n",
    "print(\"Initial setB:\", setB, \"size:\", len(setB))\n",
    "\n",
    "print(\"(setA & setB):\", setA & setB, \"size:\", len(setA & setB))\n"
   ]
  },
  {
   "cell_type": "code",
   "execution_count": 11,
   "metadata": {},
   "outputs": [
    {
     "output_type": "stream",
     "name": "stdout",
     "text": [
      "Is 'apple' in the basket? True\nIs 'watermelon' in the basket? False\n"
     ]
    }
   ],
   "source": [
    "# Python intersection example using the & operator\n",
    "# setA = {'a', 'e', 'i', 'o', 'u', 'g', 'h'}\n",
    "# setB = {'a', 'e', 'z', 'b', 't', 'o', 'u'}\n",
    "\n",
    "# print(\"Initial setA:\", setA, \"size:\", len(setA))\n",
    "# print(\"Initial setB:\", setB, \"size:\", len(setB))\n",
    "\n",
    "# print(\"(setA & setB):\", setA & setB, \"size:\", len(setA & setB))\n",
    "# Python set example to test elements in a set\n",
    "basket = set([\"apple\", \"mango\", \"banana\", \"grapes\", \"orange\"])\n",
    "\n",
    "# confirm if 'apple' is in the basket\n",
    "print(\"Is 'apple' in the basket?\", 'apple' in basket)\n",
    "\n",
    "# confirm if 'grapes' is in the basket\n",
    "print(\"Is 'watermelon' in the basket?\", 'watermelon' in basket)\n"
   ]
  },
  {
   "cell_type": "code",
   "execution_count": 12,
   "metadata": {},
   "outputs": [
    {
     "output_type": "error",
     "ename": "SyntaxError",
     "evalue": "invalid syntax (<ipython-input-12-6a7ac3c156e1>, line 1)",
     "traceback": [
      "\u001b[1;36m  File \u001b[1;32m\"<ipython-input-12-6a7ac3c156e1>\"\u001b[1;36m, line \u001b[1;32m1\u001b[0m\n\u001b[1;33m    lass EmployeeOffice: #take note of the naming convention\u001b[0m\n\u001b[1;37m         ^\u001b[0m\n\u001b[1;31mSyntaxError\u001b[0m\u001b[1;31m:\u001b[0m invalid syntax\n"
     ]
    }
   ],
   "source": [
    "lass EmployeeOffice: #take note of the naming convention\n",
    "    def __init__(self,name,rank,salary):\n",
    "        self.name = name\n",
    "        self.rank = rank\n",
    "        self.salary = salary\n",
    "        \n",
    "    #now define a method display_employee that will print the below format\n",
    "    #\" Name: bin; Rank: junior; Salary: 1000\"\n",
    "    def display_employee(self):\n",
    "        print(\"Name: {}; Rank: {}; Salary: {}\".format(self.name,self.rank,self.salary))\n",
    "        \n",
    "    def pay_raise(self, increment):\n",
    "        self.salary += increment\n",
    "    \n",
    "    def promo(self, new_rank):\n",
    "        self.rank = new_rank\n"
   ]
  },
  {
   "cell_type": "code",
   "execution_count": null,
   "metadata": {},
   "outputs": [],
   "source": []
  }
 ]
}