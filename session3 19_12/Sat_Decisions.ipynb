{
 "cells": [
  {
   "cell_type": "markdown",
   "metadata": {},
   "source": [
    "# Exercises"
   ]
  },
  {
   "cell_type": "markdown",
   "metadata": {},
   "source": [
    "## Question 1"
   ]
  },
  {
   "cell_type": "markdown",
   "metadata": {},
   "source": [
    "**Write a program that takes input of number from user and checks whether number is positive or negative.**"
   ]
  },
  {
   "cell_type": "code",
   "execution_count": 9,
   "metadata": {},
   "outputs": [
    {
     "output_type": "stream",
     "name": "stdout",
     "text": [
      "Negative number\n"
     ]
    }
   ],
   "source": [
    "num = int(input(\"Enter a number: \"))\n",
    "if num >= 0:\n",
    "       print(\"Positive number\")\n",
    "else:\n",
    "   print(\"Negative number\")"
   ]
  },
  {
   "cell_type": "markdown",
   "metadata": {},
   "source": [
    "## Question 2"
   ]
  },
  {
   "cell_type": "markdown",
   "metadata": {},
   "source": [
    "**Write a program that inputs a number from user and checks whether number is even or odd.**"
   ]
  },
  {
   "cell_type": "code",
   "execution_count": 89,
   "metadata": {},
   "outputs": [
    {
     "output_type": "stream",
     "name": "stdout",
     "text": [
      "This is an even number\n"
     ]
    }
   ],
   "source": [
    "# num = int(input(\"Enter a number: \"))\n",
    "# if (num % 2 == 0):\n",
    "#     print(\"{0} is an even number\".format(num))\n",
    "# else:\n",
    "#     print(\"{0} is an odd number\".format(num))\n",
    "x = int(input(\"Enter a number: \"))\n",
    "y = x % 2\n",
    "if y > 0:\n",
    "    print(\"This is an odd number\")\n",
    "else:\n",
    "    print(\"This is an even number\")"
   ]
  },
  {
   "cell_type": "markdown",
   "metadata": {},
   "source": [
    "## Question 3"
   ]
  },
  {
   "cell_type": "markdown",
   "metadata": {},
   "source": [
    "**Write a program that finds greatest among three numbers. <br> And output print with \"The largest number is (output)\"**"
   ]
  },
  {
   "cell_type": "code",
   "execution_count": 171,
   "metadata": {},
   "outputs": [
    {
     "output_type": "stream",
     "name": "stdout",
     "text": [
      "3 is the largest number\n"
     ]
    }
   ],
   "source": [
    "x = int(input(\"Enter first number: \"))\n",
    "y = int(input(\"Enter second number: \"))\n",
    "z = int(input(\"Enter third number: \"))\n",
    "\n",
    "if (x > y) and (x > y):\n",
    "    print(x, \"is the largest number\")\n",
    "elif (y > x) and (y > z):\n",
    "    print(y, \"is the largest number\")\n",
    "else:\n",
    "    print(z, \"is the largest number\")"
   ]
  },
  {
   "cell_type": "markdown",
   "metadata": {},
   "source": [
    "## Question 4"
   ]
  },
  {
   "cell_type": "markdown",
   "metadata": {},
   "source": [
    "**You’re on a long car trip and arrive at a gas station. The next gas station is 200km away.\n",
    "Write a program to figure out if you need to buy gas here, or if you can wait for the\n",
    "next station. <br><br>\n",
    "The condition to buy gas here is if car is able to run at least 200km more <br><br>\n",
    "Ask user for input: How many litres of gas left in tank? How many km/litre is your car? <br>\n",
    "Hint: Calculate the distance your car can still run with remaining gas**\n"
   ]
  },
  {
   "cell_type": "code",
   "execution_count": 1,
   "metadata": {},
   "outputs": [
    {
     "output_type": "stream",
     "name": "stdout",
     "text": [
      "You can travel 240.0 kms\n"
     ]
    }
   ],
   "source": [
    "\n",
    "gas_in_tank = float(input(\"How many liters left in the tank\"))\n",
    "km_per_liter = float(input(\"Enter your car km_per_liter\"))\n",
    "distance_can_travel = gas_in_tank * km_per_liter\n",
    "print(\"You can travel \" + str(distance_can_travel ) + \" kms\")\n",
    "\n",
    "    \n",
    "\n",
    "\n",
    "                    "
   ]
  },
  {
   "cell_type": "markdown",
   "metadata": {},
   "source": [
    "## Question 5"
   ]
  },
  {
   "cell_type": "markdown",
   "metadata": {},
   "source": [
    "**A soccer team is looking for girls from ages 10 to 12 to play on their team. Write a program to ask the user’s age and whether the user is male or female (using “m” or “f”). Display a message indicating whether the person is eligible to play on the team.\n",
    "Bonus: Make the program so that it doesn’t ask for the age unless the user is a girl.**"
   ]
  },
  {
   "cell_type": "code",
   "execution_count": 181,
   "metadata": {},
   "outputs": [
    {
     "output_type": "stream",
     "name": "stdout",
     "text": [
      " You are not eligible to play on this soccer team.\n"
     ]
    }
   ],
   "source": [
    "gender = str(input(\"Are you a female type f or a male type m?\"))\n",
    "\n",
    "if gender == \"f\":\n",
    "    age = int(input(\"How old are you?\"))\n",
    "if age >= 10 and age <= 12:\n",
    "    print(\" You are eligible to play on this soccer team.\")\n",
    "else:\n",
    "    print(\" You are not eligible to play on this soccer team.\")\n",
    "\n",
    "\n",
    "    \n"
   ]
  },
  {
   "cell_type": "markdown",
   "metadata": {},
   "source": [
    "## Question 6"
   ]
  },
  {
   "cell_type": "markdown",
   "metadata": {},
   "source": [
    "**Write a program that prompts the user to enter a weight in kilograms and height in metres and then displays the BMI as well as below interpreations.** \n",
    "\n",
    "**If BMI is Below $18.5$, it is interpreted as Underweight. <br>\n",
    "If BMI is from $18.5–24.9$, it is interpreted as Normal. <br>\n",
    "If BMI is from $25.0–29.9$, it is interpreted as Overweight. <br>\n",
    "else If BMI is Above $30.0$, it is interpreted as Obese.**\n"
   ]
  },
  {
   "cell_type": "code",
   "execution_count": 173,
   "metadata": {},
   "outputs": [
    {
     "output_type": "stream",
     "name": "stdout",
     "text": [
      "9.97 is your BMI.  You are underweight.\n"
     ]
    }
   ],
   "source": [
    "height = float(input(\"Enter your height in meters: \"))\n",
    "weight = float(input(\"Enter your weight in kilogram: \"))\n",
    "BMI = round(weight / (height*height), 2)\n",
    "if BMI <= 18.5:\n",
    "    print(BMI, 'is your BMI. ', \"You are underweight.\")\n",
    "elif 18.5 < BMI < 25:\n",
    "    print(BMI, 'is your BMI. ', \"You are normal.\")\n",
    "elif BMI < 25 < 30:\n",
    "    print(BMI, 'is your BMI. ', \"You are overweight.\")\n",
    "elif BMI > 30:\n",
    "    print(BMI, 'is your BMI. ', \"You are obese.\")\n",
    "\n",
    "\n"
   ]
  },
  {
   "cell_type": "markdown",
   "metadata": {},
   "source": [
    "## Question 7"
   ]
  },
  {
   "cell_type": "markdown",
   "metadata": {},
   "source": [
    "**Write a program in which user enters one number and whether it is divisible by 7 (ie. remainder 0 when divide by 7) and is not a multiple of 5.**"
   ]
  },
  {
   "cell_type": "code",
   "execution_count": 138,
   "metadata": {},
   "outputs": [
    {
     "output_type": "stream",
     "name": "stdout",
     "text": [
      "32 in not divisible by 7 and 4 is the remainder\n"
     ]
    }
   ],
   "source": [
    "num1 = int(input(\"Enter a positive number: \"))\n",
    "num2 = 7\n",
    "num3 = num1 % num2\n",
    "if num3 == 0:\n",
    "    print(num1, \"is divisible by 7 and\", num3, \"is the remainder\")\n",
    "elif num3 > 0:\n",
    "    print(num1, \"in not divisible by 7 and\", num3, \"is the remainder\")\n",
    "   \n",
    "\n",
    "\n",
    " \n"
   ]
  },
  {
   "cell_type": "code",
   "execution_count": null,
   "metadata": {},
   "outputs": [],
   "source": []
  },
  {
   "cell_type": "code",
   "execution_count": null,
   "metadata": {},
   "outputs": [],
   "source": []
  }
 ],
 "metadata": {
  "kernelspec": {
   "name": "python3",
   "display_name": "Python 3.9.1 64-bit",
   "metadata": {
    "interpreter": {
     "hash": "26221878926509641e5b2b607f3c6e4b8fe258a31a8ed898b7e217b89bef0a84"
    }
   }
  },
  "language_info": {
   "codemirror_mode": {
    "name": "ipython",
    "version": 3
   },
   "file_extension": ".py",
   "mimetype": "text/x-python",
   "name": "python",
   "nbconvert_exporter": "python",
   "pygments_lexer": "ipython3",
   "version": "3.9.1-final"
  }
 },
 "nbformat": 4,
 "nbformat_minor": 2
}